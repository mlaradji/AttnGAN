{
 "cells": [
  {
   "cell_type": "code",
   "execution_count": 14,
   "metadata": {},
   "outputs": [
    {
     "name": "stdout",
     "output_type": "stream",
     "text": [
      "2019/07/01 20:32:50 INFO mlflow.projects: === Created directory /tmp/tmpgax3ztyn for downloading remote URIs passed to arguments of type 'path' ===\n",
      "2019/07/01 20:32:50 INFO mlflow.projects: === Running command 'source activate mlflow-697830836e46982e343d4e3caec0e2856607f468 && python src/download.py birds --all' in run with ID '9c76702600e54cc18a009f6bc8b6a4d1' === \n",
      "{'raw', 'metadata', 'models', 'damsme'}\n",
      "Skipped downloading 'data/birds.zip' as it already exists. Use the '--overwrite' flag to force redownload.\n",
      "Skipped downloading 'DAMSMencoders/bird.zip' as it already exists. Use the '--overwrite' flag to force redownload.\n",
      "Skipped downloading 'models/bird_AttnGAN2.pth' as it already exists. Use the '--overwrite' flag to force redownload.\n",
      "Skipped downloading 'models/bird_AttnDCGAN2.pth' as it already exists. Use the '--overwrite' flag to force redownload.\n",
      "Skipped downloading 'data/CUB_200_2011.tgz' as it already exists. Use the '--overwrite' flag to force redownload.\n",
      "2019/07/01 20:32:50 INFO mlflow.projects: === Run (ID '9c76702600e54cc18a009f6bc8b6a4d1') succeeded ===\n"
     ]
    }
   ],
   "source": [
    "!mlflow run . -e download -P dataset=birds"
   ]
  },
  {
   "cell_type": "code",
   "execution_count": 8,
   "metadata": {},
   "outputs": [
    {
     "name": "stdout",
     "output_type": "stream",
     "text": [
      "{'metadata'}\n",
      "Skipped downloading 'data/birds.zip' as it already exists. Use the '--overwrite' flag to force redownload.\n"
     ]
    }
   ],
   "source": [
    "!python src/download.py birds --metadata --models --raw --"
   ]
  },
  {
   "cell_type": "code",
   "execution_count": 6,
   "metadata": {},
   "outputs": [],
   "source": [
    "!conda env remove -n mlflow-095ec2d0692f9a4f4ea0239df5421ba7922f65c5 -y"
   ]
  },
  {
   "cell_type": "code",
   "execution_count": null,
   "metadata": {},
   "outputs": [],
   "source": []
  }
 ],
 "metadata": {
  "kernelspec": {
   "display_name": "Python [conda env:.conda-produvia.ai-platform]",
   "language": "python",
   "name": "conda-env-.conda-produvia.ai-platform-py"
  },
  "language_info": {
   "codemirror_mode": {
    "name": "ipython",
    "version": 3
   },
   "file_extension": ".py",
   "mimetype": "text/x-python",
   "name": "python",
   "nbconvert_exporter": "python",
   "pygments_lexer": "ipython3",
   "version": "3.7.3"
  }
 },
 "nbformat": 4,
 "nbformat_minor": 4
}
